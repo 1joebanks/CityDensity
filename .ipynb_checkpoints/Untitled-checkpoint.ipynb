{
 "cells": [
  {
   "cell_type": "code",
   "execution_count": null,
   "metadata": {
    "collapsed": false,
    "scrolled": true
   },
   "outputs": [],
   "source": [
    "# import cycledata as cd\n",
    "import matplotlib.pyplot as plt\n",
    "import pandas as pd\n",
    "import numpy as np\n",
    "from lxml import objectify\n",
    "import math\n",
    "import cycledata as cd\n",
    "\n",
    "# matplotlib\n",
    "%matplotlib inline\n",
    "pd.set_option('display.width', 5000)\n",
    "pd.set_option('display.max_columns', 60)\n",
    "pd.set_option('display.mpl_style', 'default')\n",
    "\n",
    "november = cd.MonthFile(\"FullTest.csv\")\n",
    "entries, exits, total = november.ExtractData(0)\n",
    "\n",
    "path = 'livecyclehireupdates.xml'\n",
    "parsed = objectify.parse(open(path))\n",
    "root = parsed.getroot()\n",
    "attrib = root.attrib\n",
    "\n",
    "data = []\n",
    "skip_fields = ['terminalName', 'installed', 'locked', 'installDate', 'removalDate', 'temporary', 'nbBikes', 'nbEmptyDocks', 'nbDocks']\n",
    "\n",
    "for elt in root.station:\n",
    "    el_data = {}\n",
    "    for child in elt.getchildren():\n",
    "        if child.tag in skip_fields:\n",
    "            continue\n",
    "        el_data[child.tag] = child.pyval\n",
    "    data.append(el_data)\n",
    "perf = pd.DataFrame(data)\n",
    "perf\n",
    "\n",
    "# Output Bike Stations file for plotting\n",
    "# perf.to_csv(path_or_buf='Bike_Stations.csv', columns=['long', 'lat', 'id', 'name'], index=False)"
   ]
  },
  {
   "cell_type": "code",
   "execution_count": null,
   "metadata": {
    "collapsed": false
   },
   "outputs": [],
   "source": [
    "# create id x id dataframe\n",
    "# result = pd.DataFrame(index=perf.id, columns=perf.id)\n",
    "# del result.index.name\n",
    "result = pd.DataFrame(index=pd.Series(range(1,781)), columns=pd.Series(range(1,781)))\n",
    "# iterate through row and column skpping i==j\n",
    "#test = pd.pivot_table(perf, index=['id'], columns=['id'])\n",
    "#test = perf.pivot('id', 'id')\n",
    "\n",
    "for i in range(1,781):\n",
    "        srow_index = perf['id'] == i\n",
    "        start = perf.loc[srow_index, ['id', 'lat', 'long']]\n",
    "        if(len(start) > 0):\n",
    "            for j in range(1,781):\n",
    "                if i != j:\n",
    "                    erow_index = perf['id'] == j\n",
    "                    end = perf.loc[erow_index, ['id', 'lat', 'long']]\n",
    "                    if(len(end) >0):\n",
    "                        delta_lat = (end.iloc[0,1] - start.iloc[0,1])*math.pi/180\n",
    "                        delta_long = (end.iloc[0,2] - start.iloc[0,2])*math.pi/180\n",
    "                        a = math.sin(delta_lat/2)**2 + math.cos(start.lat*math.pi/180)*math.cos(end.lat*math.pi/180)*math.sin(delta_long/2)**2\n",
    "                        c = 2*math.atan2(math.sqrt(a), math.sqrt(1-a))\n",
    "                        result[j][i] = 6371000 * c\n",
    "result\n",
    "#lat = start.iloc[0,1]\n",
    "#long = start.iloc[0,2]"
   ]
  },
  {
   "cell_type": "code",
   "execution_count": null,
   "metadata": {
    "collapsed": false
   },
   "outputs": [],
   "source": [
    "for x in range(len(november.df)):\n",
    "    row_index = november.df.iloc[x,4]\n",
    "    column_index = november.df.iloc[x,4]\n",
    "    speed[i] = result.iloc[row_index,column_index] / november.df.Duration\n",
    "speed\n",
    "# column index: end id\n",
    "# november.df['speed'] = distance / duration"
   ]
  },
  {
   "cell_type": "code",
   "execution_count": null,
   "metadata": {
    "collapsed": true
   },
   "outputs": [],
   "source": [
    "result.to_csv(path_or_buf='Bike_Station_Distances.csv')"
   ]
  },
  {
   "cell_type": "code",
   "execution_count": null,
   "metadata": {
    "collapsed": false
   },
   "outputs": [],
   "source": [
    "november.df.dtypes"
   ]
  },
  {
   "cell_type": "code",
   "execution_count": null,
   "metadata": {
    "collapsed": true
   },
   "outputs": [],
   "source": []
  }
 ],
 "metadata": {
  "kernelspec": {
   "display_name": "Python 3",
   "language": "python",
   "name": "python3"
  },
  "language_info": {
   "codemirror_mode": {
    "name": "ipython",
    "version": 3
   },
   "file_extension": ".py",
   "mimetype": "text/x-python",
   "name": "python",
   "nbconvert_exporter": "python",
   "pygments_lexer": "ipython3",
   "version": "3.4.3"
  }
 },
 "nbformat": 4,
 "nbformat_minor": 0
}
