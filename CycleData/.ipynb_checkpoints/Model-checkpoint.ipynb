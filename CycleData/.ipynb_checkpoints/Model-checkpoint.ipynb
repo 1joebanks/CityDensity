{
 "cells": [
  {
   "cell_type": "code",
   "execution_count": 2,
   "metadata": {
    "collapsed": false
   },
   "outputs": [
    {
     "name": "stdout",
     "output_type": "stream",
     "text": [
      "The rpy2.ipython extension is already loaded. To reload it, use:\n",
      "  %reload_ext rpy2.ipython\n"
     ]
    }
   ],
   "source": [
    "import os\n",
    "import cycledata as cd\n",
    "import pandas as pd\n",
    "import numpy as np\n",
    "import gc\n",
    "\n",
    "# import matplotlib.pylab as plt\n",
    "# from statsmodels.tsa.seasonal import seasonal_decompose\n",
    "# from statsmodels.tsa.stattools import acf, pacf, adfuller\n",
    "# from statsmodels.tsa.arima_model import ARIMA\n",
    "# import statsmodels.tsa.arima_process\n",
    "# import statsmodels.graphics.tsaplots\n",
    "\n",
    "import rpy2.robjects as robjects\n",
    "from rpy2.robjects.packages import importr\n",
    "from rpy2.robjects import pandas2ri\n",
    "%matplotlib inline\n",
    "%load_ext rpy2.ipython\n",
    "pandas2ri.activate()\n",
    "import rpy2.robjects.packages as rpackages \n",
    "# some aliases to R functions\n",
    "# rplot = robjects.r('plot')\n",
    "\n",
    "# R package names\n",
    "packnames = ('forecast')\n",
    "\n",
    "if all(rpackages.isinstalled(x) for x in packnames):\n",
    "    have_tutorial_packages = True\n",
    "else:\n",
    "    have_tutorial_packages = False\n",
    "    \n",
    "if not have_tutorial_packages:\n",
    "    # import R's utility package\n",
    "    utils = rpackages.importr('utils')\n",
    "    # select a mirror for R packages\n",
    "    utils.chooseCRANmirror(ind=1) # select the first mirror in the list\n",
    "\n",
    "if not have_tutorial_packages:\n",
    "    # R vector of strings\n",
    "    from rpy2.robjects.vectors import StrVector\n",
    "    # file\n",
    "    packnames_to_install = [x for x in packnames if not rpackages.isinstalled(x)]\n",
    "    if len(packnames_to_install) > 0:\n",
    "        utils.install_packages(StrVector(packnames_to_install))\n",
    "        \n",
    "# Import R packages\n",
    "forecast = importr('forecast')\n",
    "base = importr('base')\n"
   ]
  },
  {
   "cell_type": "code",
   "execution_count": 3,
   "metadata": {
    "collapsed": false,
    "scrolled": false
   },
   "outputs": [
    {
     "name": "stdout",
     "output_type": "stream",
     "text": [
      "Reading: 2012FullYear.csv\n",
      "Reading: 2013FullYear.csv\n",
      "Reading: 2014FullYear.csv\n",
      "Reading: 2015FullYear.csv\n",
      "Reading: 2016FullYear.csv\n"
     ]
    }
   ],
   "source": [
    "# Import Full Years (non-seperated weeks)\n",
    "FullYear = {}\n",
    "FullYear = cd.Import('fullyear')"
   ]
  },
  {
   "cell_type": "code",
   "execution_count": null,
   "metadata": {
    "collapsed": true
   },
   "outputs": [],
   "source": [
    "# 4 week section of 2015 to be used for modelling\n",
    "DF = FullYear['2015']\n",
    "DF.set_index(DF.s_date, drop=True, inplace=True)\n",
    "DF = DF['10-2015':'22-12-2015']\n",
    "DF.dropna()\n",
    "# Find nearest Sunday\n",
    "j = 1\n",
    "while(int(DF[-j:(len(DF) - j + 1)].index.dayofweek) != 6):\n",
    "    j += 1\n",
    "# Take last 2 weeks\n",
    "lastW = int(DF[-j:(len(DF) - j + 1)].index.dayofyear)\n",
    "firstW = lastW - 14\n",
    "row = (DF.index.dayofyear > firstW) & (DF.index.dayofyear < (lastW + 1)) \n",
    "recent = DF.loc[row, :]"
   ]
  },
  {
   "cell_type": "code",
   "execution_count": null,
   "metadata": {
    "collapsed": false,
    "scrolled": true
   },
   "outputs": [],
   "source": [
    "jump = 3 # skip weekend\n",
    "# Model subset of data for particular station\n",
    "output = pd.DataFrame(columns=['count_diff', 'DateTime', 'Type', 'ID'])\n",
    "absent = []\n",
    "for x in cd.station_range:\n",
    "    SepModel = cd.Model(recent, x)\n",
    "    if SepModel.valid is False:\n",
    "        absent.append(x)\n",
    "        continue\n",
    "    SepModel.PreProcess(separate=True)\n",
    "    SepModel.WD = SepModel.WD[:480] \n",
    "    if(len(SepModel.WD) > 0):\n",
    "        if(x == 1): # Only needs to be run once, same for all stations\n",
    "            WD_dates = SepModel.WD.index\n",
    "            new = pd.to_datetime((np.asarray(WD_dates[-1].year, dtype='datetime64[Y]')-1970)+(np.asarray((WD_dates[-1].dayofyear+jump), dtype='timedelta64[D]')-1))\n",
    "            new_dates = pd.DatetimeIndex(start=new, freq='30Min', periods=48*4)\n",
    "        SepModel.WD.reset_index(inplace=True, drop=True)\n",
    "        gc.collect()\n",
    "        robjects.r('order = c(2,0,3)')\n",
    "        robjects.r('sorder = c(1,1,2)')\n",
    "        robjects.r('seasonal = list(order=sorder, period=48)')\n",
    "        DF = pandas2ri.py2ri(SepModel.WD)\n",
    "        robjects.r.assign('df', DF)\n",
    "        robjects.r('fit = Arima(df, order=order, seasonal=seasonal, method=\"CSS\")')\n",
    "        f_cast = robjects.r('f_cast = forecast(fit, h=4*48)')\n",
    "        arima_mean = np.array(f_cast.rx('mean'))\n",
    "        robjects.r('rm(list = ls(all = TRUE))')\n",
    "        robjects.r('gc()')     \n",
    "        results = pd.DataFrame({'count_diff': arima_mean.flatten()}).round()\n",
    "        results.count_diff = results.count_diff.astype(int)\n",
    "        results['DateTime'] = new_dates\n",
    "        results['Type'] = 'Forecast'\n",
    "        results['ID'] = x\n",
    "        SepModel.WD['DateTime'] = WD_dates\n",
    "        SepModel.WD['Type'] = 'Historic'\n",
    "        SepModel.WD['ID'] = x\n",
    "        out = SepModel.WD.append(results)\n",
    "        output = output.append(out)\n",
    "        del f_cast\n",
    "        del DF\n",
    "        del SepModel\n",
    "        gc.collect()\n",
    "output.ID = output.ID.astype(int)\n",
    "output.count_diff = output.count_diff.astype(int)\n",
    "output.reset_index(inplace=True, drop=True)\n",
    "path = cd.wd + '\\Model'\n",
    "if not os.path.exists(path):\n",
    "            os.mkdir(path)\n",
    "output.to_csv(path + '\\\\' 'ModelOutput.csv')"
   ]
  },
  {
   "cell_type": "code",
   "execution_count": null,
   "metadata": {
    "collapsed": false
   },
   "outputs": [],
   "source": []
  },
  {
   "cell_type": "code",
   "execution_count": null,
   "metadata": {
    "collapsed": false
   },
   "outputs": [],
   "source": [
    "SepModel = cd.Model(recent, 4)\n",
    "SepModel.PreProcess(separate=True)\n",
    "WD_dates = SepModel.WD.index\n",
    "SepModel.WD.reset_index(inplace=True, drop=True)\n",
    "# fit = forecast.Arima(SepModel.WD, order=order, seasonal=seasonal, method='CSS')\n",
    "# f_cast = forecast.forecast(fit, h=4*48)\n",
    "gc.collect()\n",
    "robjects.r('order = c(2,0,3)')\n",
    "robjects.r('sorder = c(1,1,2)')\n",
    "robjects.r('seasonal = list(order=sorder, period=48)')\n",
    "fit = forecast.Arima(SepModel.WD, order=order, seasonal=seasonal, method='CSS')\n",
    "f_cast = robjects.r('f_cast = forecast.forecast(fit, h=4*48)')\n",
    "arima_mean = np.array(f_cast.rx('mean'))\n",
    "robjects.r('rm(list = ls(all = TRUE))')\n",
    "robjects.r('gc()')\n",
    "del fit\n",
    "del f_cast\n",
    "gc.collect()\n"
   ]
  },
  {
   "cell_type": "code",
   "execution_count": null,
   "metadata": {
    "collapsed": false
   },
   "outputs": [],
   "source": [
    "# order = base.c(2,0,3)\n",
    "# sorder = base.c(1,1,2)\n",
    "# seasonal = base.list(order=sorder, period=48)\n",
    "order = base.c(2,0,3)\n",
    "sorder = base.c(1,1,2)\n",
    "seasonal = base.list(order=sorder, period=48)\n",
    "# Fit Arima model using R forecast package \n",
    "fit = forecast.Arima(SepModel[x].WD, order=order, seasonal=seasonal, method='CSS')\n",
    "f_cast = forecast.forecast(fit, h=4*48)\n",
    "del fit\n",
    "del f_cast\n",
    "gc.collect()\n",
    "# Plot R forecast\n",
    "%R -i f_cast plot(f_cast)"
   ]
  },
  {
   "cell_type": "code",
   "execution_count": null,
   "metadata": {
    "collapsed": false
   },
   "outputs": [],
   "source": [
    "datetime = pd.DatetimeIndex(dataframe[1:2].index.date)\n",
    "df = pd.DataFrame(data=[0], index=datetime, columns=[columns[1]])\n",
    "dataframe = dataframe.append(df)"
   ]
  },
  {
   "cell_type": "code",
   "execution_count": null,
   "metadata": {
    "collapsed": false
   },
   "outputs": [],
   "source": [
    "#         gc.collect()\n",
    "#         # Fit Arima model using R forecast package \n",
    "#         fit = forecast.Arima(SepModel[x].WD, order=order, seasonal=seasonal, method='CSS')\n",
    "#         f_cast = forecast.forecast(fit, h=4*48)\n",
    "#         arima_mean = np.array(f_cast.rx('mean'))\n",
    "#         del f_cast\n",
    "#         del fit\n",
    "#         robjects.r('rm(fit, f_cast)')\n",
    "#         robjects.r('gc()')\n",
    "#         gc.collect() "
   ]
  },
  {
   "cell_type": "code",
   "execution_count": null,
   "metadata": {
    "collapsed": false
   },
   "outputs": [],
   "source": [
    "station_id = 14\n",
    "arima_mean = np.array(f_cast.rx('mean'))\n",
    "results = pd.DataFrame({'count_diff': arima_mean.flatten()}).round()\n",
    "results.count_diff = results.count_diff.astype(int)\n",
    "jump = 3 # skip weekend\n",
    "new = pd.to_datetime((np.asarray(WD_dates[-1].year, dtype='datetime64[Y]')-1970)+(np.asarray((WD_dates[-1].dayofyear+jump), dtype='timedelta64[D]')-1))\n",
    "new_dates = pd.DatetimeIndex(start=new, freq='30Min', periods=48*4)\n",
    "results['DateTime'] = new_dates\n",
    "results['Type'] = 'Forecast'\n",
    "SepModel.WD['DateTime'] = WD_dates\n",
    "SepModel.WD['Type'] = 'Historic'\n",
    "output = SepModel.WD.append(results)\n",
    "output.reset_index(inplace=True, drop=True)\n",
    "output['s_id'] = station_id\n",
    "output"
   ]
  },
  {
   "cell_type": "code",
   "execution_count": null,
   "metadata": {
    "collapsed": false
   },
   "outputs": [],
   "source": []
  },
  {
   "cell_type": "code",
   "execution_count": null,
   "metadata": {
    "collapsed": false
   },
   "outputs": [],
   "source": []
  },
  {
   "cell_type": "code",
   "execution_count": null,
   "metadata": {
    "collapsed": false
   },
   "outputs": [],
   "source": []
  },
  {
   "cell_type": "code",
   "execution_count": null,
   "metadata": {
    "collapsed": false
   },
   "outputs": [],
   "source": []
  },
  {
   "cell_type": "code",
   "execution_count": null,
   "metadata": {
    "collapsed": false
   },
   "outputs": [],
   "source": []
  },
  {
   "cell_type": "code",
   "execution_count": null,
   "metadata": {
    "collapsed": false
   },
   "outputs": [],
   "source": []
  },
  {
   "cell_type": "code",
   "execution_count": null,
   "metadata": {
    "collapsed": false
   },
   "outputs": [],
   "source": []
  },
  {
   "cell_type": "code",
   "execution_count": null,
   "metadata": {
    "collapsed": true
   },
   "outputs": [],
   "source": []
  }
 ],
 "metadata": {
  "kernelspec": {
   "display_name": "Python 3",
   "language": "python",
   "name": "python3"
  },
  "language_info": {
   "codemirror_mode": {
    "name": "ipython",
    "version": 3
   },
   "file_extension": ".py",
   "mimetype": "text/x-python",
   "name": "python",
   "nbconvert_exporter": "python",
   "pygments_lexer": "ipython3",
   "version": "3.4.4"
  }
 },
 "nbformat": 4,
 "nbformat_minor": 0
}
