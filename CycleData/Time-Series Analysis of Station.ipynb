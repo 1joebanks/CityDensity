{
 "cells": [
  {
   "cell_type": "code",
   "execution_count": 106,
   "metadata": {
    "collapsed": false
   },
   "outputs": [],
   "source": [
    "import cycledata as cd\n",
    "import zipfile\n",
    "import pandas as pd\n",
    "import numpy as np\n",
    "from lxml import objectify, html\n",
    "import requests\n",
    "\n",
    "def GetAddressBook():\n",
    "    url = 'https://api.tfl.gov.uk/bikepoint'\n",
    "    resp = requests.get(url)\n",
    "    Jfile = resp.json()\n",
    "    ab = []\n",
    "    for i in Jfile:\n",
    "        ab.append({'long': i[\"lon\"],'lat': i[\"lat\"],'id': i[\"id\"][11:],'name': i[\"commonName\"]})\n",
    "    addressbook = pd.DataFrame(ab)    \n",
    "    addressbook.id = addressbook.id.astype(int)\n",
    "    addressbook.sort_values(by='id', axis=0, ascending=True, inplace=True)\n",
    "    addressbook.set_index(addressbook.id, inplace=True, drop=True)\n",
    "    # Find stations not listed in addressbook\n",
    "    add = pd.DataFrame(index=pd.Series(range(1, max(addressbook.id)+1)))\n",
    "    DF = add.join(addressbook)\n",
    "    missingStations = DF[DF.isnull().any(axis=1)].index\n",
    "    addressbook.to_csv(path_or_buf='Bike_Stations.csv', columns=['long', 'lat', 'id', 'name'], index=False)\n",
    "    return addressbook, missingStations\n"
   ]
  },
  {
   "cell_type": "code",
   "execution_count": 111,
   "metadata": {
    "collapsed": false
   },
   "outputs": [],
   "source": [
    "ab, missingStations = GetAddressBook()"
   ]
  },
  {
   "cell_type": "code",
   "execution_count": 112,
   "metadata": {
    "collapsed": false
   },
   "outputs": [
    {
     "data": {
      "text/plain": [
       "Int64Index([ 31,  35,  79,  80, 149, 179, 198, 205, 206, 237, 241, 259, 260,\n",
       "            282, 283, 285, 342, 346, 369, 385, 404, 413, 414, 415, 416, 417,\n",
       "            418, 422, 429, 434, 438, 439, 478, 493, 495, 497, 498, 502, 503,\n",
       "            525, 567, 569, 575, 582, 585, 778, 792, 793, 794, 795, 796, 797,\n",
       "            798, 799],\n",
       "           dtype='int64')"
      ]
     },
     "execution_count": 112,
     "metadata": {},
     "output_type": "execute_result"
    }
   ],
   "source": [
    "missingStations"
   ]
  },
  {
   "cell_type": "code",
   "execution_count": null,
   "metadata": {
    "collapsed": false
   },
   "outputs": [],
   "source": []
  },
  {
   "cell_type": "code",
   "execution_count": null,
   "metadata": {
    "collapsed": false
   },
   "outputs": [],
   "source": [
    "result = cd.PreProcess(Dfile, 14)\n",
    "\n",
    "# Output Result to CSV\n",
    "result['11-2012'].to_csv(\"14_November12_Difference.csv\", header=[\"Difference\"])\n",
    "result['11-2012'].head()"
   ]
  },
  {
   "cell_type": "code",
   "execution_count": 11,
   "metadata": {
    "collapsed": false,
    "scrolled": true
   },
   "outputs": [],
   "source": []
  },
  {
   "cell_type": "code",
   "execution_count": null,
   "metadata": {
    "collapsed": false
   },
   "outputs": [],
   "source": []
  },
  {
   "cell_type": "code",
   "execution_count": null,
   "metadata": {
    "collapsed": false
   },
   "outputs": [],
   "source": []
  },
  {
   "cell_type": "code",
   "execution_count": null,
   "metadata": {
    "collapsed": false
   },
   "outputs": [],
   "source": []
  },
  {
   "cell_type": "code",
   "execution_count": null,
   "metadata": {
    "collapsed": false
   },
   "outputs": [],
   "source": []
  },
  {
   "cell_type": "code",
   "execution_count": null,
   "metadata": {
    "collapsed": true
   },
   "outputs": [],
   "source": []
  }
 ],
 "metadata": {
  "kernelspec": {
   "display_name": "Python 3",
   "language": "python",
   "name": "python3"
  },
  "language_info": {
   "codemirror_mode": {
    "name": "ipython",
    "version": 3
   },
   "file_extension": ".py",
   "mimetype": "text/x-python",
   "name": "python",
   "nbconvert_exporter": "python",
   "pygments_lexer": "ipython3",
   "version": "3.4.4"
  }
 },
 "nbformat": 4,
 "nbformat_minor": 0
}
