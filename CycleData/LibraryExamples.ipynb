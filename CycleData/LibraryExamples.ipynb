{
 "cells": [
  {
   "cell_type": "code",
   "execution_count": 1,
   "metadata": {
    "collapsed": false
   },
   "outputs": [],
   "source": [
    "import cycledata as cd\n",
    "import pandas as pd\n",
    "import numpy as np\n",
    "%matplotlib inline"
   ]
  },
  {
   "cell_type": "code",
   "execution_count": null,
   "metadata": {
    "collapsed": false
   },
   "outputs": [],
   "source": [
    "# Import seperated weeks for all years\n",
    "WD = {}\n",
    "WE = {}\n",
    "WD, WE = cd.Import('split')"
   ]
  },
  {
   "cell_type": "code",
   "execution_count": null,
   "metadata": {
    "collapsed": false
   },
   "outputs": [],
   "source": [
    "# Import daily counts for all years\n",
    "WDdays = {}\n",
    "WEdays = {}\n",
    "WDdays, WEdays = cd.Import('daily')"
   ]
  },
  {
   "cell_type": "code",
   "execution_count": null,
   "metadata": {
    "collapsed": true
   },
   "outputs": [],
   "source": [
    "# Combine all dailycounts into complete frame for multi-year analysis\n",
    "WDs, WEs = cd.JoinYears(WDdays, WEdays)\n",
    "WDs.to_csv(cd.wd + '\\Features\\\\FullYearWDs.csv')\n",
    "WEs.to_csv(cd.wd + '\\Features\\\\FullYearWEs.csv')"
   ]
  },
  {
   "cell_type": "code",
   "execution_count": 2,
   "metadata": {
    "collapsed": false
   },
   "outputs": [
    {
     "name": "stdout",
     "output_type": "stream",
     "text": [
      "Reading: 2012FullYear.csv\n",
      "Reading: 2013FullYear.csv\n",
      "Reading: 2014FullYear.csv\n",
      "Reading: 2015FullYear.csv\n",
      "Reading: 2016FullYear.csv\n"
     ]
    }
   ],
   "source": [
    "# Import Full Years (non-seperated weeks)\n",
    "FullYear = {}\n",
    "FullYear = cd.Import('fullyear')"
   ]
  },
  {
   "cell_type": "code",
   "execution_count": null,
   "metadata": {
    "collapsed": false
   },
   "outputs": [],
   "source": [
    "# Find most recent 2 weeks\n",
    "recent = cd.RecentFull(FullYear)"
   ]
  },
  {
   "cell_type": "code",
   "execution_count": null,
   "metadata": {
    "collapsed": false
   },
   "outputs": [],
   "source": [
    "# Find most recent 4 weeks of data to Model\n",
    "recentWD, recentWE = cd.Recent(WD, WE)"
   ]
  },
  {
   "cell_type": "code",
   "execution_count": null,
   "metadata": {
    "collapsed": false
   },
   "outputs": [],
   "source": [
    "# Model subset of data for individual station\n",
    "FullModel = cd.Model(recent, 14)\n",
    "FullModel.PreProcess()\n",
    "FullModel.WD.plot(figsize=(16,12))"
   ]
  },
  {
   "cell_type": "code",
   "execution_count": null,
   "metadata": {
    "collapsed": false
   },
   "outputs": [],
   "source": [
    "# Adjust any overlaps within the year frames\n",
    "FY = {}\n",
    "WD = {}\n",
    "WE = {}\n",
    "FY, WD, WE = cd.AdjustOverlap(FullYear)"
   ]
  },
  {
   "cell_type": "code",
   "execution_count": null,
   "metadata": {
    "collapsed": false
   },
   "outputs": [],
   "source": [
    "# Create daily average of yearframes\n",
    "WDdaily, WEdaily = cd.YearsDaily(WD, WE)"
   ]
  },
  {
   "cell_type": "code",
   "execution_count": null,
   "metadata": {
    "collapsed": false
   },
   "outputs": [],
   "source": [
    "# Fetch AddressBook and stations missing from addressbook\n",
    "addressbook, missingStations = cd.GetAddressBook()"
   ]
  },
  {
   "cell_type": "code",
   "execution_count": null,
   "metadata": {
    "collapsed": true
   },
   "outputs": [],
   "source": [
    "# Read AddressBook \n",
    "addressbook = pd.read_csv(\"Bike_Stations.csv\")"
   ]
  },
  {
   "cell_type": "code",
   "execution_count": null,
   "metadata": {
    "collapsed": false
   },
   "outputs": [],
   "source": [
    "# Create Distances matrix (WARNING: long runtime ~30mins)\n",
    "distances = cd.GetDistances(addressbook)"
   ]
  },
  {
   "cell_type": "code",
   "execution_count": null,
   "metadata": {
    "collapsed": true
   },
   "outputs": [],
   "source": [
    "# Read Distances matrix\n",
    "distances = pd.read_csv(\"Bike_Station_Distances.csv\", index_col=0)"
   ]
  },
  {
   "cell_type": "code",
   "execution_count": null,
   "metadata": {
    "collapsed": false
   },
   "outputs": [],
   "source": [
    "# Create test dataframe of a single day from recent (may need to adjust date)\n",
    "testday = recent['28-2-2016'].copy().reset_index(drop=True)"
   ]
  },
  {
   "cell_type": "code",
   "execution_count": null,
   "metadata": {
    "collapsed": false
   },
   "outputs": [],
   "source": [
    "# Create adjacency matrix of testday 08:00 - 09:00\n",
    "adjacency, am_peak = cd.Transform(testday, 32, 36)"
   ]
  },
  {
   "cell_type": "code",
   "execution_count": null,
   "metadata": {
    "collapsed": false
   },
   "outputs": [],
   "source": [
    "# Calculate average speeds for testday (WARNING: can be long runtime)\n",
    "updated = cd.CalcSpeeds(testday)"
   ]
  },
  {
   "cell_type": "code",
   "execution_count": null,
   "metadata": {
    "collapsed": false
   },
   "outputs": [],
   "source": [
    "# Run SARIMA model of Weekdays using most recent dataframe\n",
    "output, absent, errors = cd.RunWDModel(recent)"
   ]
  },
  {
   "cell_type": "code",
   "execution_count": 42,
   "metadata": {
    "collapsed": false
   },
   "outputs": [],
   "source": [
    "# Import historic values to compare against forecasts\n",
    "historic = FullYear['2015'].copy()\n",
    "historic.set_index('s_date', inplace=True)\n",
    "historic = historic['12-07-2015':'12-10-2015'].copy()\n",
    "historic.reset_index(inplace=True)\n",
    "# Import Model Forecasts and filter \n",
    "modelOut = pd.read_csv('ModelOutput.csv', index_col=0, parse_dates=[2])\n",
    "row = modelOut.Type == 'Forecast'\n",
    "predictions = modelOut.loc[row, :]\n",
    "mse = []\n",
    "for x in cd.station_range:\n",
    "    # Create series of prediciton values for station x\n",
    "    row = predictions.ID == x\n",
    "    x_predictions = predictions.loc[row, ['count_diff', 'DateTime']]\n",
    "    x_predictions.set_index(x_predictions.DateTime, drop=True, inplace=True)\n",
    "    del x_predictions['DateTime']\n",
    "    del x_predictions.index.name\n",
    "    # Format series for historic values of station x\n",
    "    test = cd.Model(historic, x)\n",
    "    test.PreProcess(separate=True)\n",
    "    # Calculate Mean Squared Errors\n",
    "    Errors = pd.Series(x_predictions.count_diff - test.WD.count_diff)\n",
    "    SqErrors = Errors.apply(lambda y: y**2)\n",
    "    if ~np.isnan(SqErrors.mean()):\n",
    "        mse.append(SqErrors.mean())\n",
    "total_mse = np.mean(mse)"
   ]
  }
 ],
 "metadata": {
  "kernelspec": {
   "display_name": "Python 3",
   "language": "python",
   "name": "python3"
  },
  "language_info": {
   "codemirror_mode": {
    "name": "ipython",
    "version": 3
   },
   "file_extension": ".py",
   "mimetype": "text/x-python",
   "name": "python",
   "nbconvert_exporter": "python",
   "pygments_lexer": "ipython3",
   "version": "3.4.4"
  }
 },
 "nbformat": 4,
 "nbformat_minor": 0
}
