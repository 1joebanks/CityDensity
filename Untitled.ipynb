{
 "cells": [
  {
   "cell_type": "code",
   "execution_count": 3,
   "metadata": {
    "collapsed": false,
    "scrolled": true
   },
   "outputs": [
    {
     "data": {
      "text/html": [
       "<div>\n",
       "<table border=\"1\" class=\"dataframe\">\n",
       "  <thead>\n",
       "    <tr style=\"text-align: right;\">\n",
       "      <th></th>\n",
       "      <th>s_id</th>\n",
       "      <th>e_id</th>\n",
       "      <th>Duration</th>\n",
       "      <th>speed</th>\n",
       "    </tr>\n",
       "  </thead>\n",
       "  <tbody>\n",
       "    <tr>\n",
       "      <th>count</th>\n",
       "      <td>571204.000000</td>\n",
       "      <td>571204.000000</td>\n",
       "      <td>571204.000000</td>\n",
       "      <td>518480.000000</td>\n",
       "    </tr>\n",
       "    <tr>\n",
       "      <th>mean</th>\n",
       "      <td>252.863252</td>\n",
       "      <td>251.269217</td>\n",
       "      <td>957.725974</td>\n",
       "      <td>2.756696</td>\n",
       "    </tr>\n",
       "    <tr>\n",
       "      <th>std</th>\n",
       "      <td>165.450591</td>\n",
       "      <td>164.476557</td>\n",
       "      <td>6384.265589</td>\n",
       "      <td>0.933794</td>\n",
       "    </tr>\n",
       "    <tr>\n",
       "      <th>min</th>\n",
       "      <td>1.000000</td>\n",
       "      <td>1.000000</td>\n",
       "      <td>5.000000</td>\n",
       "      <td>0.000295</td>\n",
       "    </tr>\n",
       "    <tr>\n",
       "      <th>25%</th>\n",
       "      <td>107.000000</td>\n",
       "      <td>108.000000</td>\n",
       "      <td>412.000000</td>\n",
       "      <td>2.311824</td>\n",
       "    </tr>\n",
       "    <tr>\n",
       "      <th>50%</th>\n",
       "      <td>234.000000</td>\n",
       "      <td>232.000000</td>\n",
       "      <td>655.000000</td>\n",
       "      <td>2.806887</td>\n",
       "    </tr>\n",
       "    <tr>\n",
       "      <th>75%</th>\n",
       "      <td>382.000000</td>\n",
       "      <td>377.000000</td>\n",
       "      <td>1005.000000</td>\n",
       "      <td>3.276206</td>\n",
       "    </tr>\n",
       "    <tr>\n",
       "      <th>max</th>\n",
       "      <td>594.000000</td>\n",
       "      <td>594.000000</td>\n",
       "      <td>1108738.000000</td>\n",
       "      <td>188.693071</td>\n",
       "    </tr>\n",
       "  </tbody>\n",
       "</table>\n",
       "</div>"
      ],
      "text/plain": [
       "                s_id           e_id        Duration          speed\n",
       "count  571204.000000  571204.000000   571204.000000  518480.000000\n",
       "mean      252.863252     251.269217      957.725974       2.756696\n",
       "std       165.450591     164.476557     6384.265589       0.933794\n",
       "min         1.000000       1.000000        5.000000       0.000295\n",
       "25%       107.000000     108.000000      412.000000       2.311824\n",
       "50%       234.000000     232.000000      655.000000       2.806887\n",
       "75%       382.000000     377.000000     1005.000000       3.276206\n",
       "max       594.000000     594.000000  1108738.000000     188.693071"
      ]
     },
     "execution_count": 3,
     "metadata": {},
     "output_type": "execute_result"
    }
   ],
   "source": [
    "import matplotlib.pyplot as plt\n",
    "import pandas as pd\n",
    "#import numpy as np\n",
    "#from lxml import objectify\n",
    "#import math\n",
    "#import cycledata as cd\n",
    "# matplotlib\n",
    "%matplotlib inline\n",
    "pd.set_option('display.width', 5000)\n",
    "pd.set_option('display.max_columns', 60)\n",
    "pd.set_option('display.mpl_style', 'default')\n",
    "df = pd.read_csv(\"NovemberWeekdayJourneys.csv\", parse_dates=[2, 4], dayfirst=True,index_col=0)\n",
    "# %run tubedata\n",
    "df.describe()"
   ]
  },
  {
   "cell_type": "code",
   "execution_count": null,
   "metadata": {
    "collapsed": false,
    "scrolled": true
   },
   "outputs": [],
   "source": [
    "# create id x id dataframe\n",
    "# result = pd.DataFrame(index=perf.id, columns=perf.id)\n",
    "# del result.index.name\n",
    "result = pd.DataFrame(index=pd.Series(range(1,781)), columns=pd.Series(range(1,781)))\n",
    "# iterate through row and column skpping i==j\n",
    "#test = pd.pivot_table(perf, index=['id'], columns=['id'])\n",
    "#test = perf.pivot('id', 'id')\n",
    "\n",
    "for i in range(1,781):\n",
    "        srow_index = perf['id'] == i\n",
    "        start = perf.loc[srow_index, ['id', 'lat', 'long']]\n",
    "        if(len(start) > 0):\n",
    "            for j in range(1,781):\n",
    "                if i != j:\n",
    "                    erow_index = perf['id'] == j\n",
    "                    end = perf.loc[erow_index, ['id', 'lat', 'long']]\n",
    "                    if(len(end) >0):\n",
    "                        delta_lat = (end.iloc[0,1] - start.iloc[0,1])*math.pi/180\n",
    "                        delta_long = (end.iloc[0,2] - start.iloc[0,2])*math.pi/180\n",
    "                        a = math.sin(delta_lat/2)**2 + math.cos(start.lat*math.pi/180)*math.cos(end.lat*math.pi/180)*math.sin(delta_long/2)**2\n",
    "                        c = 2*math.atan2(math.sqrt(a), math.sqrt(1-a))\n",
    "                        result[j][i] = 6371000 * c\n",
    "result\n",
    "#lat = start.iloc[0,1]\n",
    "#long = start.iloc[0,2]"
   ]
  },
  {
   "cell_type": "code",
   "execution_count": null,
   "metadata": {
    "collapsed": true
   },
   "outputs": [],
   "source": []
  }
 ],
 "metadata": {
  "kernelspec": {
   "display_name": "Python 3",
   "language": "python",
   "name": "python3"
  },
  "language_info": {
   "codemirror_mode": {
    "name": "ipython",
    "version": 3
   },
   "file_extension": ".py",
   "mimetype": "text/x-python",
   "name": "python",
   "nbconvert_exporter": "python",
   "pygments_lexer": "ipython3",
   "version": "3.4.3"
  }
 },
 "nbformat": 4,
 "nbformat_minor": 0
}
